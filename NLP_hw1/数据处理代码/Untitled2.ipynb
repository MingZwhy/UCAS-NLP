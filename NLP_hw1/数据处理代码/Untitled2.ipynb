{
 "cells": [
  {
   "cell_type": "code",
   "execution_count": 56,
   "id": "2ebc4e30",
   "metadata": {},
   "outputs": [],
   "source": [
    "import os\n",
    "import collections\n",
    "import glob\n",
    "import re\n",
    "import math\n",
    "from tqdm import tqdm"
   ]
  },
  {
   "cell_type": "code",
   "execution_count": 57,
   "id": "2bab3ee3",
   "metadata": {},
   "outputs": [],
   "source": [
    "input_path0 = r'F:\\novels\\20newsbydate\\20news-bydate-train'\n",
    "input_path1 = r'F:\\novels\\20newsbydate\\20news-bydate-test'\n",
    "pattern = re.compile(r'[^a-zA-Z]')\n",
    "load_path = glob.glob(input_path0 + \"\\\\*\")\n",
    "load_path.extend(glob.glob(input_path1+ \"\\\\*\"))\n",
    "#[r'F:\\NLP\\aclImdb\\train\\neg',r'F:\\NLP\\aclImdb\\train\\pos']"
   ]
  },
  {
   "cell_type": "code",
   "execution_count": 58,
   "id": "309d6cfc",
   "metadata": {},
   "outputs": [],
   "source": [
    "# 定义函数，用于删除字符串中的 <br> 标签\n",
    "def remove_br_tags(text):\n",
    "    return text.replace(\"<br />\", \"\")"
   ]
  },
  {
   "cell_type": "code",
   "execution_count": 59,
   "id": "37612844",
   "metadata": {},
   "outputs": [],
   "source": [
    "def check_charset(file_path):\n",
    "    import chardet\n",
    "    with open(file_path, \"rb\") as f:\n",
    "        data = f.read(4)\n",
    "        charset = chardet.detect(data)['encoding']\n",
    "    return charset"
   ]
  },
  {
   "cell_type": "code",
   "execution_count": 60,
   "id": "bda3a257",
   "metadata": {},
   "outputs": [],
   "source": [
    "def make_counter(path, max_num):\n",
    "    total_counter = collections.Counter()\n",
    "    num = 0\n",
    "    for fold in path:\n",
    "        files = glob.glob(fold + '\\\\*.txt')\n",
    "        # print(files)\n",
    "        for file in files:\n",
    "            try:\n",
    "                with open(file, \"r\", encoding='utf-8') as f:\n",
    "                    text = f.read()\n",
    "            except UnicodeDecodeError:\n",
    "                continue\n",
    "            text = remove_br_tags(text)\n",
    "            text = pattern.sub('', text)\n",
    "            text = text.lower()\n",
    "            text = ''.join(c for c in text if c.isalpha())\n",
    "            num += len(text)\n",
    "            letter_counts = collections.Counter(text)\n",
    "            total_counter += letter_counts\n",
    "            # print(letter_counts)\n",
    "            if num > max_num:\n",
    "                return total_counter\n",
    "    assert(False)"
   ]
  },
  {
   "cell_type": "code",
   "execution_count": 62,
   "id": "253a56c2",
   "metadata": {
    "scrolled": false
   },
   "outputs": [
    {
     "name": "stdout",
     "output_type": "stream",
     "text": [
      "熵为: 4.22284251571446\n",
      "1031355\n",
      "熵为: 4.357026758518026\n",
      "2025819\n",
      "熵为: 4.3681545864406734\n",
      "3000194\n",
      "熵为: 4.347737181323583\n",
      "4001137\n",
      "熵为: 4.332372277253079\n",
      "5000151\n"
     ]
    },
    {
     "ename": "KeyboardInterrupt",
     "evalue": "",
     "output_type": "error",
     "traceback": [
      "\u001b[1;31m---------------------------------------------------------------------------\u001b[0m",
      "\u001b[1;31mKeyboardInterrupt\u001b[0m                         Traceback (most recent call last)",
      "Input \u001b[1;32mIn [62]\u001b[0m, in \u001b[0;36m<cell line: 1>\u001b[1;34m()\u001b[0m\n\u001b[0;32m      1\u001b[0m \u001b[38;5;28;01mfor\u001b[39;00m i \u001b[38;5;129;01min\u001b[39;00m \u001b[38;5;28mrange\u001b[39m(\u001b[38;5;241m20\u001b[39m):\n\u001b[0;32m      2\u001b[0m     \u001b[38;5;66;03m# print(load_path)\u001b[39;00m\n\u001b[1;32m----> 3\u001b[0m     counter0 \u001b[38;5;241m=\u001b[39m \u001b[43mmake_counter\u001b[49m\u001b[43m(\u001b[49m\u001b[43mload_path\u001b[49m\u001b[43m,\u001b[49m\u001b[43m \u001b[49m\u001b[38;5;241;43m1000000\u001b[39;49m\u001b[43m \u001b[49m\u001b[38;5;241;43m+\u001b[39;49m\u001b[43m \u001b[49m\u001b[43mi\u001b[49m\u001b[43m \u001b[49m\u001b[38;5;241;43m*\u001b[39;49m\u001b[43m \u001b[49m\u001b[38;5;241;43m1000000\u001b[39;49m\u001b[43m)\u001b[49m\n\u001b[0;32m      4\u001b[0m     n \u001b[38;5;241m=\u001b[39m \u001b[38;5;28msum\u001b[39m(counter0\u001b[38;5;241m.\u001b[39mvalues())\n\u001b[0;32m      5\u001b[0m     probs \u001b[38;5;241m=\u001b[39m [count \u001b[38;5;241m/\u001b[39m n \u001b[38;5;28;01mfor\u001b[39;00m count \u001b[38;5;129;01min\u001b[39;00m counter0\u001b[38;5;241m.\u001b[39mvalues()]\n",
      "Input \u001b[1;32mIn [60]\u001b[0m, in \u001b[0;36mmake_counter\u001b[1;34m(path, max_num)\u001b[0m\n\u001b[0;32m      7\u001b[0m \u001b[38;5;28;01mfor\u001b[39;00m file \u001b[38;5;129;01min\u001b[39;00m files:\n\u001b[0;32m      8\u001b[0m     \u001b[38;5;28;01mtry\u001b[39;00m:\n\u001b[1;32m----> 9\u001b[0m         \u001b[38;5;28;01mwith\u001b[39;00m \u001b[38;5;28;43mopen\u001b[39;49m\u001b[43m(\u001b[49m\u001b[43mfile\u001b[49m\u001b[43m,\u001b[49m\u001b[43m \u001b[49m\u001b[38;5;124;43m\"\u001b[39;49m\u001b[38;5;124;43mr\u001b[39;49m\u001b[38;5;124;43m\"\u001b[39;49m\u001b[43m,\u001b[49m\u001b[43m \u001b[49m\u001b[43mencoding\u001b[49m\u001b[38;5;241;43m=\u001b[39;49m\u001b[38;5;124;43m'\u001b[39;49m\u001b[38;5;124;43mutf-8\u001b[39;49m\u001b[38;5;124;43m'\u001b[39;49m\u001b[43m)\u001b[49m \u001b[38;5;28;01mas\u001b[39;00m f:\n\u001b[0;32m     10\u001b[0m             text \u001b[38;5;241m=\u001b[39m f\u001b[38;5;241m.\u001b[39mread()\n\u001b[0;32m     11\u001b[0m     \u001b[38;5;28;01mexcept\u001b[39;00m \u001b[38;5;167;01mUnicodeDecodeError\u001b[39;00m:\n",
      "File \u001b[1;32mF:\\Anaconda3\\envs\\PyTorch\\lib\\codecs.py:309\u001b[0m, in \u001b[0;36mBufferedIncrementalDecoder.__init__\u001b[1;34m(self, errors)\u001b[0m\n\u001b[0;32m    303\u001b[0m \u001b[38;5;28;01mclass\u001b[39;00m \u001b[38;5;21;01mBufferedIncrementalDecoder\u001b[39;00m(IncrementalDecoder):\n\u001b[0;32m    304\u001b[0m     \u001b[38;5;124;03m\"\"\"\u001b[39;00m\n\u001b[0;32m    305\u001b[0m \u001b[38;5;124;03m    This subclass of IncrementalDecoder can be used as the baseclass for an\u001b[39;00m\n\u001b[0;32m    306\u001b[0m \u001b[38;5;124;03m    incremental decoder if the decoder must be able to handle incomplete\u001b[39;00m\n\u001b[0;32m    307\u001b[0m \u001b[38;5;124;03m    byte sequences.\u001b[39;00m\n\u001b[0;32m    308\u001b[0m \u001b[38;5;124;03m    \"\"\"\u001b[39;00m\n\u001b[1;32m--> 309\u001b[0m     \u001b[38;5;28;01mdef\u001b[39;00m \u001b[38;5;21m__init__\u001b[39m(\u001b[38;5;28mself\u001b[39m, errors\u001b[38;5;241m=\u001b[39m\u001b[38;5;124m'\u001b[39m\u001b[38;5;124mstrict\u001b[39m\u001b[38;5;124m'\u001b[39m):\n\u001b[0;32m    310\u001b[0m         IncrementalDecoder\u001b[38;5;241m.\u001b[39m\u001b[38;5;21m__init__\u001b[39m(\u001b[38;5;28mself\u001b[39m, errors)\n\u001b[0;32m    311\u001b[0m         \u001b[38;5;66;03m# undecoded input that is kept between calls to decode()\u001b[39;00m\n",
      "\u001b[1;31mKeyboardInterrupt\u001b[0m: "
     ]
    }
   ],
   "source": [
    "for i in range(20):\n",
    "    # print(load_path)\n",
    "    counter0 = make_counter(load_path, 1000000 + i * 1000000)\n",
    "    n = sum(counter0.values())\n",
    "    probs = [count / n for count in counter0.values()]\n",
    "    # 计算熵\n",
    "    entropy = -sum(p * math.log2(p) for p in probs)\n",
    "    print(\"熵为:\", entropy)\n",
    "#     count_dict = dict(sorted(counter0.items(), key=lambda x: x[0]))\n",
    "#     for letter in \"abcdefghijklmnopqrstuvwxyz\":\n",
    "#         print(f\"{count_dict.get(letter, 0)}\")\n",
    "    print(n)"
   ]
  },
  {
   "cell_type": "code",
   "execution_count": 47,
   "id": "bdb6cb3f",
   "metadata": {},
   "outputs": [
    {
     "data": {
      "text/plain": [
       "26"
      ]
     },
     "execution_count": 47,
     "metadata": {},
     "output_type": "execute_result"
    }
   ],
   "source": [
    "len(counter0)"
   ]
  },
  {
   "cell_type": "code",
   "execution_count": 48,
   "id": "39dffe43",
   "metadata": {},
   "outputs": [],
   "source": [
    " n = sum(counter0.values())"
   ]
  },
  {
   "cell_type": "code",
   "execution_count": 49,
   "id": "cdac417a",
   "metadata": {},
   "outputs": [
    {
     "data": {
      "text/plain": [
       "20000462"
      ]
     },
     "execution_count": 49,
     "metadata": {},
     "output_type": "execute_result"
    }
   ],
   "source": [
    "n"
   ]
  },
  {
   "cell_type": "code",
   "execution_count": 43,
   "id": "8c3b1099",
   "metadata": {},
   "outputs": [
    {
     "name": "stdout",
     "output_type": "stream",
     "text": [
      "熵为: 4.191925414135905\n"
     ]
    }
   ],
   "source": [
    "probs = [count / n for count in counter0.values()]\n",
    "# 计算熵\n",
    "entropy = -sum(p * math.log2(p) for p in probs)\n",
    "print(\"熵为:\", entropy)"
   ]
  },
  {
   "cell_type": "code",
   "execution_count": null,
   "id": "8ac852f8",
   "metadata": {},
   "outputs": [],
   "source": []
  }
 ],
 "metadata": {
  "kernelspec": {
   "display_name": "Python [conda env:PyTorch] *",
   "language": "python",
   "name": "conda-env-PyTorch-py"
  },
  "language_info": {
   "codemirror_mode": {
    "name": "ipython",
    "version": 3
   },
   "file_extension": ".py",
   "mimetype": "text/x-python",
   "name": "python",
   "nbconvert_exporter": "python",
   "pygments_lexer": "ipython3",
   "version": "3.8.13"
  }
 },
 "nbformat": 4,
 "nbformat_minor": 5
}
