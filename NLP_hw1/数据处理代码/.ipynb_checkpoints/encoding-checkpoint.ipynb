{
 "cells": [
  {
   "cell_type": "code",
   "execution_count": 9,
   "id": "48b3063b",
   "metadata": {},
   "outputs": [],
   "source": [
    "def check_charset(file_path):\n",
    "    import chardet\n",
    "    with open(file_path, \"rb\") as f:\n",
    "        data = f.read(4)\n",
    "        charset = chardet.detect(data)['encoding']\n",
    "    return charset"
   ]
  },
  {
   "cell_type": "code",
   "execution_count": 10,
   "id": "23e94ce7",
   "metadata": {},
   "outputs": [
    {
     "data": {
      "text/plain": [
       "'ascii'"
      ]
     },
     "execution_count": 10,
     "metadata": {},
     "output_type": "execute_result"
    }
   ],
   "source": [
    "check_charset(r'F:\\novels\\20newsbydate\\20news-bydate-train\\alt.atheism\\51120.txt')"
   ]
  },
  {
   "cell_type": "code",
   "execution_count": 15,
   "id": "8ea30599",
   "metadata": {},
   "outputs": [
    {
     "name": "stdout",
     "output_type": "stream",
     "text": [
      "Subject: Re: <Political Atheists?\n",
      "From: bobbe@vice.ICO.TEK.COM (Robert Beauchaine)\n",
      "Organization: Tektronix, Inc., Beaverton,  OR.\n",
      "Lines: 47\n",
      "\n",
      "In article <1993Apr3.212139.14076@blaze.cs.jhu.edu> arromdee@jyusenkyou.cs.jhu.edu (Ken Arromdee) writes:\n",
      ">In article <1pj9bs$d4j@fido.asd.sgi.com> livesey@solntze.wpd.sgi.com (Jon Livesey) writes:\n",
      ">>I would say that one innocent person killed is in some sense\n",
      ">>as bad as many.   We certainly feel that way when we punish\n",
      ">>someone for a single murder.\n",
      ">>Now if we reform system X, by reducing the number of deaths\n",
      ">>by one, we produce system XX.    I'd say we should not go back\n",
      ">>to system X, even though by doing so we would re-introduce only \n",
      ">>a single extra death.\n",
      ">\n",
      ">Bob seems to think that one is as bad as many in a sense somewhat stronger than\n",
      ">the one you indicate.\n",
      ">--\n",
      "\n",
      "  Yes, I do.  \n",
      "\n",
      "  My argument is that the sole purpose of the death penalty is to\n",
      "  kill people.  That is it's primary (and I would argue only)\n",
      "  purpose.  To continue to kill people by a practice that has\n",
      "  almost no utility, especially when you know you will be killing\n",
      "  innocents, is unconscionable.\n",
      "\n",
      "  At the very least, the existence of the prison system and our\n",
      "  transportation system are based on their merits to society, not\n",
      "  their detriments.  We are willing to accept a few lost innocent\n",
      "  lives because there is an overwhelming benefit to the continued\n",
      "  existence of these systems.  One has to stretch the evidence and\n",
      "  the arguments to make the same claim for capital punishment.\n",
      "\n",
      "  Just in case I wasn't clear again:  We maintain a capital\n",
      "  punsihment system that kills innocent people and provides us with\n",
      "  no net positive gain.  Why?\n",
      "\n",
      "  Were you to pin me in a corner and ask, I would have to respond\n",
      "  that I don't belief the state should have the right to take life\n",
      "  at all.  But I won't open that debate, as it seems others are\n",
      "  tiring of this thread on a.a anyway.\n",
      "\n",
      "\n",
      "/\\/\\/\\/\\/\\/\\/\\/\\/\\/\\/\\/\\/\\/\\/\\/\\/\\/\\/\\/\\/\\/\\/\\/\\/\\/\\/\\/\\/\\/\\/\\/\\/\\/\\ \n",
      "\n",
      "Bob Beauchaine bobbe@vice.ICO.TEK.COM \n",
      "\n",
      "They said that Queens could stay, they blew the Bronx away,\n",
      "and sank Manhattan out at sea.\n",
      "\n",
      "^^^^^^^^^^^^^^^^^^^^^^^^^^^^^^^^^^^^^^^^^^^^^^^^^^^^^^^^^^^^^^^^^^^^\n",
      "\n"
     ]
    }
   ],
   "source": [
    "with open(r'F:/novels/20newsbydate/20news-bydate-train/alt.atheism/52499.txt', \"r\", encoding='gbk') as f:\n",
    "    text = f.read()\n",
    "    print(text)"
   ]
  },
  {
   "cell_type": "code",
   "execution_count": null,
   "id": "b10eeb88",
   "metadata": {},
   "outputs": [],
   "source": []
  }
 ],
 "metadata": {
  "kernelspec": {
   "display_name": "Python [conda env:PyTorch] *",
   "language": "python",
   "name": "conda-env-PyTorch-py"
  },
  "language_info": {
   "codemirror_mode": {
    "name": "ipython",
    "version": 3
   },
   "file_extension": ".py",
   "mimetype": "text/x-python",
   "name": "python",
   "nbconvert_exporter": "python",
   "pygments_lexer": "ipython3",
   "version": "3.8.13"
  }
 },
 "nbformat": 4,
 "nbformat_minor": 5
}
