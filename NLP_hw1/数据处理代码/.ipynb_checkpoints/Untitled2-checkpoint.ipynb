{
 "cells": [
  {
   "cell_type": "code",
   "execution_count": 56,
   "id": "2ebc4e30",
   "metadata": {},
   "outputs": [],
   "source": [
    "import os\n",
    "import collections\n",
    "import glob\n",
    "import re\n",
    "import math\n",
    "from tqdm import tqdm"
   ]
  },
  {
   "cell_type": "code",
   "execution_count": 57,
   "id": "2bab3ee3",
   "metadata": {},
   "outputs": [],
   "source": [
    "input_path0 = r'F:\\novels\\20newsbydate\\20news-bydate-train'\n",
    "input_path1 = r'F:\\novels\\20newsbydate\\20news-bydate-test'\n",
    "pattern = re.compile(r'[^a-zA-Z]')\n",
    "load_path = glob.glob(input_path0 + \"\\\\*\")\n",
    "load_path.extend(glob.glob(input_path1+ \"\\\\*\"))\n",
    "#[r'F:\\NLP\\aclImdb\\train\\neg',r'F:\\NLP\\aclImdb\\train\\pos']"
   ]
  },
  {
   "cell_type": "code",
   "execution_count": 58,
   "id": "309d6cfc",
   "metadata": {},
   "outputs": [],
   "source": [
    "# 定义函数，用于删除字符串中的 <br> 标签\n",
    "def remove_br_tags(text):\n",
    "    return text.replace(\"<br />\", \"\")"
   ]
  },
  {
   "cell_type": "code",
   "execution_count": 59,
   "id": "6ad1d58a",
   "metadata": {},
   "outputs": [],
   "source": [
    "def check_charset(file_path):\n",
    "    import chardet\n",
    "    with open(file_path, \"rb\") as f:\n",
    "        data = f.read(4)\n",
    "        charset = chardet.detect(data)['encoding']\n",
    "    return charset"
   ]
  },
  {
   "cell_type": "code",
   "execution_count": 60,
   "id": "bda3a257",
   "metadata": {},
   "outputs": [],
   "source": [
    "def make_counter(path, max_num):\n",
    "    total_counter = collections.Counter()\n",
    "    num = 0\n",
    "    for fold in path:\n",
    "        files = glob.glob(fold + '\\\\*.txt')\n",
    "        # print(files)\n",
    "        for file in files:\n",
    "            try:\n",
    "                with open(file, \"r\", encoding='utf-8') as f:\n",
    "                    text = f.read()\n",
    "            except UnicodeDecodeError:\n",
    "                continue\n",
    "            text = remove_br_tags(text)\n",
    "            text = pattern.sub('', text)\n",
    "            text = text.lower()\n",
    "            text = ''.join(c for c in text if c.isalpha())\n",
    "            num += len(text)\n",
    "            letter_counts = collections.Counter(text)\n",
    "            total_counter += letter_counts\n",
    "            # print(letter_counts)\n",
    "            if num > max_num:\n",
    "                return total_counter\n",
    "    assert(False)"
   ]
  },
  {
   "cell_type": "code",
   "execution_count": 61,
   "id": "253a56c2",
   "metadata": {
    "scrolled": false
   },
   "outputs": [
    {
     "name": "stdout",
     "output_type": "stream",
     "text": [
      "熵为: 4.22284251571446\n",
      " \n",
      "熵为: 4.357026758518026\n",
      " \n",
      "熵为: 4.3681545864406734\n",
      " \n",
      "熵为: 4.347737181323583\n",
      " \n",
      "熵为: 4.332372277253079\n",
      " \n",
      "熵为: 4.321633290975279\n",
      " \n",
      "熵为: 4.312360691303256\n",
      " \n",
      "熵为: 4.303408818623248\n",
      " \n",
      "熵为: 4.296267475054124\n",
      " \n",
      "熵为: 4.288946693084617\n",
      " \n",
      "熵为: 4.281938227580155\n",
      " \n",
      "熵为: 4.27751157417026\n",
      " \n",
      "熵为: 4.272283357978103\n",
      " \n",
      "熵为: 4.267355389636116\n",
      " \n",
      "熵为: 4.263804805181405\n",
      " \n",
      "熵为: 4.261685926890352\n",
      " \n",
      "熵为: 4.265290424908944\n",
      " \n",
      "熵为: 4.26734018524782\n",
      " \n",
      "熵为: 4.266147925299436\n",
      " \n",
      "熵为: 4.264801689468357\n",
      " \n"
     ]
    }
   ],
   "source": [
    "for i in range(20):\n",
    "    # print(load_path)\n",
    "    counter0 = make_counter(load_path, 1000000 + i * 1000000)\n",
    "    n = sum(counter0.values())\n",
    "    probs = [count / n for count in counter0.values()]\n",
    "    # 计算熵\n",
    "    entropy = -sum(p * math.log2(p) for p in probs)\n",
    "    print(\"熵为:\", entropy)\n",
    "#     count_dict = dict(sorted(counter0.items(), key=lambda x: x[0]))\n",
    "#     for letter in \"abcdefghijklmnopqrstuvwxyz\":\n",
    "#         print(f\"{count_dict.get(letter, 0)}\")\n",
    "    print(n)"
   ]
  },
  {
   "cell_type": "code",
   "execution_count": 47,
   "id": "bdb6cb3f",
   "metadata": {},
   "outputs": [
    {
     "data": {
      "text/plain": [
       "26"
      ]
     },
     "execution_count": 47,
     "metadata": {},
     "output_type": "execute_result"
    }
   ],
   "source": [
    "len(counter0)"
   ]
  },
  {
   "cell_type": "code",
   "execution_count": 48,
   "id": "39dffe43",
   "metadata": {},
   "outputs": [],
   "source": [
    " n = sum(counter0.values())"
   ]
  },
  {
   "cell_type": "code",
   "execution_count": 49,
   "id": "cdac417a",
   "metadata": {},
   "outputs": [
    {
     "data": {
      "text/plain": [
       "20000462"
      ]
     },
     "execution_count": 49,
     "metadata": {},
     "output_type": "execute_result"
    }
   ],
   "source": [
    "n"
   ]
  },
  {
   "cell_type": "code",
   "execution_count": 43,
   "id": "8c3b1099",
   "metadata": {},
   "outputs": [
    {
     "name": "stdout",
     "output_type": "stream",
     "text": [
      "熵为: 4.191925414135905\n"
     ]
    }
   ],
   "source": [
    "probs = [count / n for count in counter0.values()]\n",
    "# 计算熵\n",
    "entropy = -sum(p * math.log2(p) for p in probs)\n",
    "print(\"熵为:\", entropy)"
   ]
  },
  {
   "cell_type": "code",
   "execution_count": null,
   "id": "8ac852f8",
   "metadata": {},
   "outputs": [],
   "source": []
  }
 ],
 "metadata": {
  "kernelspec": {
   "display_name": "Python [conda env:PyTorch] *",
   "language": "python",
   "name": "conda-env-PyTorch-py"
  },
  "language_info": {
   "codemirror_mode": {
    "name": "ipython",
    "version": 3
   },
   "file_extension": ".py",
   "mimetype": "text/x-python",
   "name": "python",
   "nbconvert_exporter": "python",
   "pygments_lexer": "ipython3",
   "version": "3.8.13"
  }
 },
 "nbformat": 4,
 "nbformat_minor": 5
}
