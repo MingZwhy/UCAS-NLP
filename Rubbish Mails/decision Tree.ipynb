{
 "cells": [
  {
   "cell_type": "code",
   "execution_count": 219,
   "id": "0c10b0e9",
   "metadata": {},
   "outputs": [],
   "source": [
    "import csv\n",
    "import numpy as np\n",
    "import re\n",
    "import string\n",
    "from tqdm import tqdm"
   ]
  },
  {
   "cell_type": "code",
   "execution_count": 220,
   "id": "cb1f2588",
   "metadata": {},
   "outputs": [],
   "source": [
    "train = False\n",
    "load_path  = r\"F:\\BaiduNetdiskDownload\\rb_mails\\train.csv\" if train else r\"F:\\BaiduNetdiskDownload\\rb_mails\\test_noLabel.csv\"\n",
    "str_www = \"www.\"\n",
    "str_com = \".com\"\n",
    "str_fullonsms_com = \"fullonsms.com\"\n",
    "str_http= \"http\"\n",
    "str_unsub_stop = \"unsub stop\"\n",
    "str_send_stop = \"send stop\"\n",
    "str_porn = \"porn\"\n",
    "str_p = \"p/\"\n",
    "str_nokia = \"nokia\"\n",
    "str_reply = \"reply stop\""
   ]
  },
  {
   "cell_type": "code",
   "execution_count": 221,
   "id": "31e10c57",
   "metadata": {},
   "outputs": [
    {
     "data": {
      "text/plain": [
       "1114"
      ]
     },
     "execution_count": 221,
     "metadata": {},
     "output_type": "execute_result"
    }
   ],
   "source": [
    "mails_info = []\n",
    "with open(load_path, 'r',encoding=\"utf-8\") as file:\n",
    "    # 创建CSV阅读器\n",
    "    csv_reader = csv.reader(file)\n",
    "    \n",
    "    # 逐行读取CSV文件并打印内容\n",
    "    for row in csv_reader:\n",
    "        mails_info.append(row)\n",
    "mails_info = mails_info[1:]\n",
    "len(mails_info)"
   ]
  },
  {
   "cell_type": "code",
   "execution_count": 222,
   "id": "c2d5083e",
   "metadata": {},
   "outputs": [
    {
     "data": {
      "text/plain": [
       "['4458', 'Ok.ok ok..then..whats ur todays plan']"
      ]
     },
     "execution_count": 222,
     "metadata": {},
     "output_type": "execute_result"
    }
   ],
   "source": [
    "mails_info[0]"
   ]
  },
  {
   "cell_type": "code",
   "execution_count": 223,
   "id": "517dd41e",
   "metadata": {},
   "outputs": [],
   "source": [
    "def get_numbers(mails_context):\n",
    "    digit_count = 0\n",
    "    for char in mails_context:\n",
    "        if char.isdigit():\n",
    "            digit_count += 1\n",
    "    return digit_count\n",
    "\n",
    "def find_str(mails_context, string):\n",
    "    is_have = 0\n",
    "    mails_context = mails_context.lower()\n",
    "    if string in mails_context:\n",
    "        is_have = 1\n",
    "    return is_have"
   ]
  },
  {
   "cell_type": "code",
   "execution_count": 224,
   "id": "d27572fb",
   "metadata": {},
   "outputs": [],
   "source": [
    "def count_uppercase_words(mails_context):\n",
    "    new_context = mails_context.replace(\"I \", \"i \")\n",
    "    # 使用正则表达式匹配全大写的单词\n",
    "    pattern = r'\\b[A-Z]+\\b'\n",
    "    matches = re.findall(pattern, new_context)\n",
    "    \n",
    "    # 返回匹配到的全大写单词个数\n",
    "    return len(matches)"
   ]
  },
  {
   "cell_type": "code",
   "execution_count": 225,
   "id": "a64c7182",
   "metadata": {},
   "outputs": [],
   "source": [
    "index = 2 if train else 1\n",
    "for mail in mails_info:\n",
    "    mail.append(get_numbers(mail[index])) #数字个数\n",
    "    mail.append(count_uppercase_words(mail[index])) #全大写单词个数\n",
    "    mail.append(find_str(mail[index],str_reply)) #reply是否有\n",
    "    mail.append(find_str(mail[index],str_www)) #www是否有\n",
    "    mail.append(find_str(mail[index],str_com)) #com是否有\n",
    "    mail.append(find_str(mail[index],str_http)) #http是否有\n",
    "    mail.append(find_str(mail[index],str_unsub_stop)) #unsub是否有\n",
    "    mail.append(find_str(mail[index],str_send_stop)) #send是否有\n",
    "    mail.append(find_str(mail[index],str_fullonsms_com)) #fullonsms_com是否有\n",
    "    mail.append(find_str(mail[index],str_porn)) #porn是否有\n",
    "    mail.append(find_str(mail[index],str_p)) #/p是否有\n",
    "    mail.append(find_str(mail[index],str_nokia)) #nokia是否有"
   ]
  },
  {
   "cell_type": "code",
   "execution_count": 226,
   "id": "c4772cf8",
   "metadata": {},
   "outputs": [
    {
     "name": "stdout",
     "output_type": "stream",
     "text": [
      "['4458', 'Ok.ok ok..then..whats ur todays plan', 0, 0, 0, 0, 0, 0, 0, 0, 0, 0, 0, 0]\n",
      "['4458' '0' '0' '0' '0' '0' '0' '0' '0' '0' '0' '0' '0' '']\n"
     ]
    }
   ],
   "source": [
    "print(mails_info[0])\n",
    "mails_info = np.array(mails_info)\n",
    "if train:\n",
    "    mails_info = np.delete(mails_info, 2, axis=1)\n",
    "    mails_info = np.concatenate((mails_info[:, :1], mails_info[:, 2:], mails_info[:, 1:2]), axis=1)\n",
    "else:\n",
    "    new_col = np.array([\"\"]*len(mails_info))\n",
    "    mails_info = np.delete(mails_info, 1, axis=1)\n",
    "    mails_info = np.append(mails_info, new_col.reshape(-1,1), axis=1)\n",
    "print(mails_info[0])"
   ]
  },
  {
   "cell_type": "code",
   "execution_count": 227,
   "id": "c86d7856",
   "metadata": {},
   "outputs": [
    {
     "name": "stdout",
     "output_type": "stream",
     "text": [
      "['ID', 'A', 'B', 'C', 'D', 'E', 'F', 'G', 'H', 'I', 'J', 'K', 'L', 'Label']\n"
     ]
    },
    {
     "name": "stderr",
     "output_type": "stream",
     "text": [
      "100%|███████████████████████████████████████████████████████████████████████████| 1114/1114 [00:00<00:00, 23229.63it/s]\n"
     ]
    }
   ],
   "source": [
    "def save_array_to_csv(array, filename):\n",
    "    # 打开CSV文件\n",
    "    with open(filename, 'w', newline='') as file:\n",
    "        # 创建CSV写入器\n",
    "        csv_writer = csv.writer(file)\n",
    "        header = ['ID'] + [string.ascii_uppercase[i] for i in range(len(array[0])-2)] + [ 'Label']\n",
    "        print(header)\n",
    "        csv_writer.writerow(header)\n",
    "        # 写入二维数组的每一行\n",
    "        for row in tqdm(array):\n",
    "            csv_writer.writerow(row)\n",
    "            \n",
    "# 保存二维数组为CSV文件\n",
    "save_path = r\"F:\\BaiduNetdiskDownload\\rb_mails\\output\\train_output.csv\" if train else r\"F:\\BaiduNetdiskDownload\\rb_mails\\output\\test_output.csv\"\n",
    "save_array_to_csv(mails_info, save_path)"
   ]
  },
  {
   "cell_type": "code",
   "execution_count": null,
   "id": "d2c903c5",
   "metadata": {},
   "outputs": [],
   "source": []
  },
  {
   "cell_type": "code",
   "execution_count": null,
   "id": "74632742",
   "metadata": {},
   "outputs": [],
   "source": []
  },
  {
   "cell_type": "code",
   "execution_count": null,
   "id": "91e42dfd",
   "metadata": {},
   "outputs": [],
   "source": []
  },
  {
   "cell_type": "code",
   "execution_count": null,
   "id": "80cdff64",
   "metadata": {},
   "outputs": [],
   "source": []
  }
 ],
 "metadata": {
  "kernelspec": {
   "display_name": "Python [conda env:PyTorch] *",
   "language": "python",
   "name": "conda-env-PyTorch-py"
  },
  "language_info": {
   "codemirror_mode": {
    "name": "ipython",
    "version": 3
   },
   "file_extension": ".py",
   "mimetype": "text/x-python",
   "name": "python",
   "nbconvert_exporter": "python",
   "pygments_lexer": "ipython3",
   "version": "3.8.13"
  }
 },
 "nbformat": 4,
 "nbformat_minor": 5
}
