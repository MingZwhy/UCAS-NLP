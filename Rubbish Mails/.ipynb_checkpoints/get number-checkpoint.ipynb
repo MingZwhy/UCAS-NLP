{
 "cells": [
  {
   "cell_type": "code",
   "execution_count": 23,
   "id": "affdf289",
   "metadata": {},
   "outputs": [],
   "source": [
    "import re\n",
    "import csv"
   ]
  },
  {
   "cell_type": "code",
   "execution_count": 24,
   "id": "3700dd56",
   "metadata": {},
   "outputs": [],
   "source": [
    "def count_number_strings(s):\n",
    "    # 匹配连续三个或以上数字的正则表达式\n",
    "    pattern = r\"\\d{3,}\"\n",
    "    # 查找所有匹配的数字串\n",
    "    matches = re.findall(pattern, s)\n",
    "    # 计算匹配到的数字串数量\n",
    "    count = len(matches)\n",
    "    return count"
   ]
  },
  {
   "cell_type": "code",
   "execution_count": 25,
   "id": "fec8ded8",
   "metadata": {},
   "outputs": [],
   "source": [
    "train = False\n",
    "load_path  = r\"F:\\BaiduNetdiskDownload\\rb_mails\\train.csv\" if train else r\"F:\\BaiduNetdiskDownload\\rb_mails\\test_Label.csv\""
   ]
  },
  {
   "cell_type": "code",
   "execution_count": 27,
   "id": "877800c8",
   "metadata": {},
   "outputs": [
    {
     "data": {
      "text/plain": [
       "1114"
      ]
     },
     "execution_count": 27,
     "metadata": {},
     "output_type": "execute_result"
    }
   ],
   "source": [
    "mails_info = []\n",
    "with open(load_path, 'r',encoding=\"gbk\") as file:\n",
    "    # 创建CSV阅读器\n",
    "    csv_reader = csv.reader(file)\n",
    "    \n",
    "    # 逐行读取CSV文件并打印内容\n",
    "    for row in csv_reader:\n",
    "        mails_info.append(row)\n",
    "mails_info = mails_info[1:]\n",
    "len(mails_info)"
   ]
  },
  {
   "cell_type": "code",
   "execution_count": 29,
   "id": "89ea6cd0",
   "metadata": {},
   "outputs": [
    {
     "name": "stdout",
     "output_type": "stream",
     "text": [
      "4658 Hi dis is yijue i would be happy to work wif ?all for gek1510...\n",
      "5011 Money i have won wining number 946 wot do i do next\n",
      "5023 CALL 09090900040 & LISTEN TO EXTREME DIRTY LIVE CHAT GOING ON IN THE OFFICE RIGHT NOW TOTAL PRIVACY NO ONE KNOWS YOUR [sic] LISTENING 60P MIN 24/7MP 0870753331018+\n",
      "5174 Sorry I missed your call let's talk when you have the time. I'm on 07090201529\n",
      "5195 Not heard from U4 a while. Call me now am here all night with just my knickers on. Make me beg for it like U did last time 01223585236 XX Luv Nikiyu4.net\n",
      "5291 Yun ah.the ubi one say if ?wan call by tomorrow.call 67441233 look for irene.ere only got bus8,22,65,61,66,382. Ubi cres,ubi tech park.6ph for 1st 5wkg days.态n\n",
      "5394 Then ?come n pick me at 530 ar?\n",
      "5454 staff.science.nus.edu.sg/~phyhcmk/teaching/pc1323\n",
      "5474 It's ?only $140 ard...?rest all ard $180 at least...Which is ?price 4 ?2 bedrm ($900)\n",
      "5476 Leave it wif me lar... ?wan to carry meh so heavy... Is da num 98321561 familiar to ?\n",
      "0.010341261633919338\n",
      "967\n",
      "10\n"
     ]
    }
   ],
   "source": [
    "count = 0\n",
    "spam_count = 0\n",
    "for mail in mails_info:\n",
    "    mail.append(count_number_strings(mail[2]))\n",
    "    if mail[1] == \"spam\":\n",
    "        spam_count += 1\n",
    "        count += 1 if mail[3]>0 else 0\n",
    "        if mail[3] == 0:\n",
    "            print(str(mail[0] + \" \" + mail[2]))\n",
    "print(count/spam_count)\n",
    "print(spam_count)\n",
    "print(count)"
   ]
  },
  {
   "cell_type": "code",
   "execution_count": null,
   "id": "61cc017a",
   "metadata": {},
   "outputs": [],
   "source": []
  }
 ],
 "metadata": {
  "kernelspec": {
   "display_name": "Python [conda env:PyTorch] *",
   "language": "python",
   "name": "conda-env-PyTorch-py"
  },
  "language_info": {
   "codemirror_mode": {
    "name": "ipython",
    "version": 3
   },
   "file_extension": ".py",
   "mimetype": "text/x-python",
   "name": "python",
   "nbconvert_exporter": "python",
   "pygments_lexer": "ipython3",
   "version": "3.8.13"
  }
 },
 "nbformat": 4,
 "nbformat_minor": 5
}
