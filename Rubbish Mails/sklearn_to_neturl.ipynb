{
 "cells": [
  {
   "cell_type": "code",
   "execution_count": 40,
   "id": "93f639fc",
   "metadata": {},
   "outputs": [],
   "source": [
    "from sklearn.feature_extraction.text import CountVectorizer\n",
    "from sklearn.model_selection import train_test_split\n",
    "from sklearn.naive_bayes import MultinomialNB\n",
    "from sklearn.linear_model import LogisticRegression\n",
    "from sklearn import svm\n",
    "from sklearn.neighbors import KNeighborsClassifier\n",
    "from sklearn.tree import DecisionTreeClassifier\n",
    "from sklearn.ensemble import RandomForestClassifier\n",
    "from sklearn.ensemble import GradientBoostingClassifier\n",
    "from sklearn.neural_network import MLPClassifier\n",
    "from sklearn.metrics import accuracy_score, precision_score, recall_score, f1_score\n",
    "import pandas as pd"
   ]
  },
  {
   "cell_type": "code",
   "execution_count": 41,
   "id": "a4ffe931",
   "metadata": {},
   "outputs": [
    {
     "name": "stdout",
     "output_type": "stream",
     "text": [
      "  ID label                                            context\n",
      "1  0   ham  I don't have anybody's number, I still haven't...\n",
      "2  1  spam  Congrats! 2 mobile 3G Videophones R yours. cal...\n",
      "3  2   ham  She is our sister.. She belongs 2 our family.....\n",
      "4  3   ham              Ya very nice. . .be ready on thursday\n",
      "5  4   ham                                               Okie\n"
     ]
    }
   ],
   "source": [
    "data_init = pd.read_csv(r'F:\\BaiduNetdiskDownload\\rb_mails\\train.csv', sep=',', names=['ID', 'label','context'])\n",
    "data_init.drop(index=0, inplace=True)\n",
    "print(data_init.head())"
   ]
  },
  {
   "cell_type": "code",
   "execution_count": 42,
   "id": "ca957a95",
   "metadata": {},
   "outputs": [],
   "source": [
    "data_init['label'] = data_init.label.map({'ham': 0, 'spam': 1})"
   ]
  },
  {
   "cell_type": "code",
   "execution_count": 43,
   "id": "fd3a0e0d",
   "metadata": {},
   "outputs": [],
   "source": [
    "x_train, x_test, y_train, y_test = train_test_split(data_init['context'], data_init['label'], random_state=1)"
   ]
  },
  {
   "cell_type": "code",
   "execution_count": 44,
   "id": "ffd21664",
   "metadata": {},
   "outputs": [],
   "source": [
    "count_vector = CountVectorizer(stop_words='english')\n",
    "train_data = count_vector.fit_transform(x_train)\n",
    "test_data = count_vector.transform(x_test)"
   ]
  },
  {
   "cell_type": "code",
   "execution_count": 45,
   "id": "d730a86d",
   "metadata": {},
   "outputs": [],
   "source": [
    "mlp = MLPClassifier(solver='lbfgs', activation='logistic')\n",
    "mlp.fit(train_data, y_train)\n",
    "predictions_nn = mlp.predict(test_data)"
   ]
  },
  {
   "cell_type": "code",
   "execution_count": 46,
   "id": "9f78b32d",
   "metadata": {},
   "outputs": [
    {
     "name": "stdout",
     "output_type": "stream",
     "text": [
      "neural network Accuracy score: 0.9838565022421525\n",
      "neural network Precision score: 0.9765625\n",
      "neural network Recall score: 0.8928571428571429\n",
      "neural network F1 score: 0.9328358208955224\n"
     ]
    }
   ],
   "source": [
    "print('neural network Accuracy score:', format(accuracy_score(y_test, predictions_nn)))\n",
    "print('neural network Precision score:', format(precision_score(y_test, predictions_nn)))\n",
    "print('neural network Recall score:', format(recall_score(y_test, predictions_nn)))\n",
    "print('neural network F1 score:', format(f1_score(y_test, predictions_nn)))"
   ]
  },
  {
   "cell_type": "code",
   "execution_count": 49,
   "id": "a37fe0f3",
   "metadata": {},
   "outputs": [
    {
     "name": "stdout",
     "output_type": "stream",
     "text": [
      "     ID                                            context  label\n",
      "1  4458               Ok.ok ok..then..whats ur todays plan    NaN\n",
      "2  4459  \\Hi darlin did youPhone me? Im atHome if youwa...    NaN\n",
      "3  4460                   K. Did you call me just now ah?     NaN\n",
      "4  4461  Urgent UR awarded a complimentary trip to Euro...    NaN\n",
      "5  4462                               ?called dad oredi...    NaN\n"
     ]
    },
    {
     "data": {
      "text/plain": [
       "1114"
      ]
     },
     "execution_count": 49,
     "metadata": {},
     "output_type": "execute_result"
    }
   ],
   "source": [
    "data_no_label = pd.read_csv(r'F:\\BaiduNetdiskDownload\\rb_mails\\test_noLabel.csv', sep=',', names=['ID', 'context','label'])\n",
    "data_no_label.drop(index=0, inplace=True)\n",
    "print(data_no_label.head())\n",
    "len(data_no_label)"
   ]
  },
  {
   "cell_type": "code",
   "execution_count": 50,
   "id": "3f2ebcd0",
   "metadata": {},
   "outputs": [],
   "source": [
    "test_no_label, label_no_label = data_no_label['context'], data_no_label['label']\n",
    "test_data_no_label = count_vector.transform(test_no_label)\n",
    "predictions_nn = mlp.predict(test_data_no_label)\n"
   ]
  },
  {
   "cell_type": "code",
   "execution_count": 51,
   "id": "b0ea6081",
   "metadata": {},
   "outputs": [
    {
     "data": {
      "text/plain": [
       "1114"
      ]
     },
     "execution_count": 51,
     "metadata": {},
     "output_type": "execute_result"
    }
   ],
   "source": [
    "len(predictions_nn)"
   ]
  },
  {
   "cell_type": "code",
   "execution_count": 53,
   "id": "c7f97428",
   "metadata": {},
   "outputs": [],
   "source": [
    "for item,pred in enumerate(predictions_nn):\n",
    "    data_no_label.loc[item,'label'] = 'ham' if pred==0 else 'spam'\n",
    "data_no_label.to_csv(r'F:\\BaiduNetdiskDownload\\rb_mails\\mlp\\out.csv',index=False)"
   ]
  },
  {
   "cell_type": "code",
   "execution_count": null,
   "id": "d99603aa",
   "metadata": {},
   "outputs": [],
   "source": []
  }
 ],
 "metadata": {
  "kernelspec": {
   "display_name": "Python [conda env:PyTorch] *",
   "language": "python",
   "name": "conda-env-PyTorch-py"
  },
  "language_info": {
   "codemirror_mode": {
    "name": "ipython",
    "version": 3
   },
   "file_extension": ".py",
   "mimetype": "text/x-python",
   "name": "python",
   "nbconvert_exporter": "python",
   "pygments_lexer": "ipython3",
   "version": "3.8.13"
  }
 },
 "nbformat": 4,
 "nbformat_minor": 5
}
