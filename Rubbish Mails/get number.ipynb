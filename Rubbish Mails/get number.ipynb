{
 "cells": [
  {
   "cell_type": "code",
   "execution_count": 23,
   "id": "90be264b",
   "metadata": {},
   "outputs": [],
   "source": [
    "import re\n",
    "import csv"
   ]
  },
  {
   "cell_type": "code",
   "execution_count": 24,
   "id": "2daea2e4",
   "metadata": {},
   "outputs": [],
   "source": [
    "def count_number_strings(s):\n",
    "    # 匹配连续三个或以上数字的正则表达式\n",
    "    pattern = r\"\\d{3,}\"\n",
    "    # 查找所有匹配的数字串\n",
    "    matches = re.findall(pattern, s)\n",
    "    # 计算匹配到的数字串数量\n",
    "    count = len(matches)\n",
    "    return count"
   ]
  },
  {
   "cell_type": "code",
   "execution_count": 25,
   "id": "c831993e",
   "metadata": {},
   "outputs": [],
   "source": [
    "train = False\n",
    "load_path  = r\"F:\\BaiduNetdiskDownload\\rb_mails\\train.csv\" if train else r\"F:\\BaiduNetdiskDownload\\rb_mails\\test_Label.csv\""
   ]
  },
  {
   "cell_type": "code",
   "execution_count": 27,
   "id": "c08aac8b",
   "metadata": {},
   "outputs": [
    {
     "data": {
      "text/plain": [
       "1114"
      ]
     },
     "execution_count": 27,
     "metadata": {},
     "output_type": "execute_result"
    }
   ],
   "source": [
    "mails_info = []\n",
    "with open(load_path, 'r',encoding=\"gbk\") as file:\n",
    "    # 创建CSV阅读器\n",
    "    csv_reader = csv.reader(file)\n",
    "    \n",
    "    # 逐行读取CSV文件并打印内容\n",
    "    for row in csv_reader:\n",
    "        mails_info.append(row)\n",
    "mails_info = mails_info[1:]\n",
    "len(mails_info)"
   ]
  },
  {
   "cell_type": "code",
   "execution_count": 30,
   "id": "b47a2ca0",
   "metadata": {},
   "outputs": [
    {
     "name": "stdout",
     "output_type": "stream",
     "text": [
      "4488 Check Out Choose Your Babe Videos @ sms.shsex.netUN fgkslpoPW fgkslpo\n",
      "4539 Orange brings you ringtones from all time Chart Heroes, with a free hit each week! Go to Ringtones & Pics on wap. To stop receiving these tips reply STOP.\n",
      "4559 from www.Applausestore.com MonthlySubscription@50p/msg max6/month T&CsC web age16 2stop txt stop\n",
      "4746 Had your mobile 10 mths? Update to latest Orange camera/video phones for FREE. Save 澹s with Free texts/weekend calls. Text YES for a callback orno to opt out\n",
      "4797 3. You have received your mobile content. Enjoy\n",
      "4830 Thanks for the Vote. Now sing along with the stars with Karaoke on your mobile. For a FREE link just reply with SING now.\n",
      "4962 Get 3 Lions England tone, reply lionm 4 mono or lionp 4 poly. 4 more go 2 www.ringtones.co.uk, the original n best. Tones 3GBP network operator rates apply.\n",
      "5027 important information 4 orange user . today is your lucky day!2find out why log onto http://www.urawinner.com THERE'S A FANTASTIC SURPRISE AWAITING YOU!\n",
      "5056 For your chance to WIN a FREE Bluetooth Headset then simply reply back with \\ADP\\\"\"\n",
      "5145 You will be receiving this week's Triple Echo ringtone shortly. Enjoy it!\n",
      "5181 Welcome! Please reply with your AGE and GENDER to begin. e.g 24M\n",
      "5194 Dear Voucher Holder, To claim this weeks offer, at your PC please go to http://www.wtlp.co.uk/text. Ts&Cs apply.\n",
      "5209 Total video converter free download type this in google search:)\n",
      "5216 Adult 18 Content Your video will be with you shortly\n",
      "5243 Ringtone Club: Gr8 new polys direct to your mobile every week !\n",
      "0.8979591836734694\n",
      "147\n",
      "132\n"
     ]
    }
   ],
   "source": [
    "count = 0\n",
    "spam_count = 0\n",
    "for mail in mails_info:\n",
    "    mail.append(count_number_strings(mail[2]))\n",
    "    if mail[1] == \"spam\":\n",
    "        spam_count += 1\n",
    "        count += 1 if mail[3]>0 else 0\n",
    "        if mail[3] == 0:\n",
    "            print(str(mail[0] + \" \" + mail[2]))\n",
    "print(count/spam_count)\n",
    "print(spam_count)\n",
    "print(count)"
   ]
  },
  {
   "cell_type": "code",
   "execution_count": null,
   "id": "adfb6c4f",
   "metadata": {},
   "outputs": [],
   "source": []
  }
 ],
 "metadata": {
  "kernelspec": {
   "display_name": "Python [conda env:PyTorch] *",
   "language": "python",
   "name": "conda-env-PyTorch-py"
  },
  "language_info": {
   "codemirror_mode": {
    "name": "ipython",
    "version": 3
   },
   "file_extension": ".py",
   "mimetype": "text/x-python",
   "name": "python",
   "nbconvert_exporter": "python",
   "pygments_lexer": "ipython3",
   "version": "3.8.13"
  }
 },
 "nbformat": 4,
 "nbformat_minor": 5
}
